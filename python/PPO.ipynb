{
 "cells": [
  {
   "cell_type": "markdown",
   "metadata": {},
   "source": [
    "# Unity ML Agents\n",
    "## Proximal Policy Optimization (PPO)\n",
    "Contains an implementation of PPO as described [here](https://arxiv.org/abs/1707.06347)."
   ]
  },
  {
   "cell_type": "code",
   "execution_count": 1,
   "metadata": {},
   "outputs": [],
   "source": [
    "import numpy as np\n",
    "import os\n",
    "import tensorflow as tf\n",
    "\n",
    "from ppo.history import *\n",
    "from ppo.models import *\n",
    "from ppo.trainer import Trainer\n",
    "from unityagents import *"
   ]
  },
  {
   "cell_type": "markdown",
   "metadata": {},
   "source": [
    "### Hyperparameters"
   ]
  },
  {
   "cell_type": "code",
   "execution_count": 2,
   "metadata": {},
   "outputs": [],
   "source": [
    "### General parameters\n",
    "max_steps = 5e5 # Set maximum number of steps to run environment.\n",
    "run_path = \"ppo\" # The sub-directory name for model and summary statistics\n",
    "load_model = False # Whether to load a saved model.\n",
    "train_model = True # Whether to train the model.\n",
    "summary_freq = 10000 # Frequency at which to save training statistics.\n",
    "save_freq = 50000 # Frequency at which to save model.\n",
    "env_name = \"build1\" # Name of the training environment file.\n",
    "curriculum_file = None\n",
    "\n",
    "### Algorithm-specific parameters for tuning\n",
    "gamma = 0.99 # Reward discount rate.\n",
    "lambd = 0.95 # Lambda parameter for GAE.\n",
    "time_horizon = 2048 # How many steps to collect per agent before adding to buffer.\n",
    "beta = 1e-3 # Strength of entropy regularization\n",
    "num_epoch = 5 # Number of gradient descent steps per batch of experiences.\n",
    "num_layers = 2 # Number of hidden layers between state/observation encoding and value/policy layers.\n",
    "epsilon = 0.2 # Acceptable threshold around ratio of old and new policy probabilities.\n",
    "buffer_size = 2048 # How large the experience buffer should be before gradient descent.\n",
    "learning_rate = 3e-4 # Model learning rate.\n",
    "hidden_units = 64 # Number of units in hidden layer.\n",
    "batch_size = 64 # How many experiences per gradient descent update step.\n",
    "normalize = False\n",
    "\n",
    "### Logging dictionary for hyperparameters\n",
    "hyperparameter_dict = {'max_steps':max_steps, 'run_path':run_path, 'env_name':env_name,\n",
    "    'curriculum_file':curriculum_file, 'gamma':gamma, 'lambd':lambd, 'time_horizon':time_horizon,\n",
    "    'beta':beta, 'num_epoch':num_epoch, 'epsilon':epsilon, 'buffe_size':buffer_size,\n",
    "    'leaning_rate':learning_rate, 'hidden_units':hidden_units, 'batch_size':batch_size}"
   ]
  },
  {
   "cell_type": "markdown",
   "metadata": {},
   "source": [
    "### Load the environment"
   ]
  },
  {
   "cell_type": "code",
   "execution_count": 3,
   "metadata": {},
   "outputs": [
    {
     "name": "stderr",
     "output_type": "stream",
     "text": [
      "INFO:unityagents:\n",
      "'Ball3DAcademy' started successfully!\n"
     ]
    },
    {
     "name": "stdout",
     "output_type": "stream",
     "text": [
      "Unity Academy name: Ball3DAcademy\n",
      "        Number of brains: 1\n",
      "        Reset Parameters :\n",
      "\t\t\n",
      "Unity brain name: Ball3DBrain\n",
      "        Number of observations (per agent): 0\n",
      "        State space type: continuous\n",
      "        State space size (per agent): 8\n",
      "        Action space type: continuous\n",
      "        Action space size (per agent): 2\n",
      "        Memory space size (per agent): 0\n",
      "        Action descriptions: , \n"
     ]
    }
   ],
   "source": [
    "env = UnityEnvironment(file_name=env_name, curriculum=curriculum_file)\n",
    "print(str(env))\n",
    "brain_name = env.external_brain_names[0]"
   ]
  },
  {
   "cell_type": "markdown",
   "metadata": {},
   "source": [
    "### Train the Agent(s)"
   ]
  },
  {
   "cell_type": "code",
   "execution_count": null,
   "metadata": {
    "scrolled": true
   },
   "outputs": [
    {
     "name": "stdout",
     "output_type": "stream",
     "text": [
      "Step: 10000. Mean Reward: 15.4543018336. Std of Reward: 31.7005109875.\n",
      "Step: 20000. Mean Reward: 40.2421428571. Std of Reward: 45.9464674032.\n",
      "Step: 30000. Mean Reward: 9.72425876011. Std of Reward: 25.6340867134.\n",
      "Step: 40000. Mean Reward: 15.6309165527. Std of Reward: 34.0965840943.\n",
      "Step: 50000. Mean Reward: 14.9030054645. Std of Reward: 33.8538701848.\n",
      "Saved Model\n",
      "Step: 60000. Mean Reward: 3.51589233038. Std of Reward: 12.4218540327.\n",
      "Step: 70000. Mean Reward: 31.1031073446. Std of Reward: 43.1241397714.\n",
      "Step: 80000. Mean Reward: 29.0187969925. Std of Reward: 42.3247283409.\n",
      "Step: 90000. Mean Reward: 62.8578680203. Std of Reward: 46.7322006782.\n",
      "Step: 100000. Mean Reward: 45.7692913386. Std of Reward: 46.9635375598.\n",
      "Saved Model\n",
      "Step: 110000. Mean Reward: 8.34421613394. Std of Reward: 21.7110735839.\n",
      "Step: 120000. Mean Reward: 2.26680363957. Std of Reward: 6.04373735568.\n",
      "Step: 130000. Mean Reward: 51.6788288288. Std of Reward: 49.2018077423.\n",
      "Step: 140000. Mean Reward: 15.7898611111. Std of Reward: 33.4343825854.\n",
      "Step: 150000. Mean Reward: 15.0897535668. Std of Reward: 32.5349112912.\n",
      "Saved Model\n",
      "Step: 160000. Mean Reward: 3.03022273425. Std of Reward: 8.26447367607.\n",
      "Step: 170000. Mean Reward: 9.89402597403. Std of Reward: 22.438206609.\n",
      "Step: 180000. Mean Reward: 21.9015904573. Std of Reward: 35.3585311222.\n",
      "Step: 190000. Mean Reward: 86.6589928058. Std of Reward: 33.5290978814.\n",
      "Step: 200000. Mean Reward: 66.2765027322. Std of Reward: 46.546944924.\n",
      "Saved Model\n",
      "Step: 210000. Mean Reward: 83.9992857143. Std of Reward: 36.0947453564.\n",
      "Step: 220000. Mean Reward: 85.2878571429. Std of Reward: 35.022283657.\n",
      "Step: 230000. Mean Reward: 49.7617647059. Std of Reward: 48.7670255578.\n",
      "Step: 240000. Mean Reward: 21.9850828729. Std of Reward: 38.1453812272.\n",
      "Step: 250000. Mean Reward: 13.8785806452. Std of Reward: 30.3213150715.\n",
      "Saved Model\n",
      "Step: 260000. Mean Reward: 38.7331103679. Std of Reward: 46.5830793848.\n",
      "Step: 270000. Mean Reward: 91.1348484848. Std of Reward: 28.0343187541.\n",
      "Step: 280000. Mean Reward: 18.714599686. Std of Reward: 31.7403668181.\n",
      "Step: 290000. Mean Reward: 46.4658536585. Std of Reward: 44.0289738848.\n",
      "Step: 300000. Mean Reward: 96.8556451613. Std of Reward: 17.2241124235.\n",
      "Saved Model\n",
      "Step: 310000. Mean Reward: 96.1016. Std of Reward: 19.1009821067.\n",
      "Step: 320000. Mean Reward: 32.2760989011. Std of Reward: 38.8556168617.\n",
      "Step: 330000. Mean Reward: 9.57983576642. Std of Reward: 15.8389598766.\n",
      "Step: 340000. Mean Reward: 66.2444444444. Std of Reward: 40.9089697068.\n",
      "Step: 350000. Mean Reward: 18.9530944625. Std of Reward: 29.521964691.\n",
      "Saved Model\n",
      "Step: 360000. Mean Reward: 5.17610759494. Std of Reward: 5.77411872804.\n",
      "Step: 370000. Mean Reward: 4.346182323. Std of Reward: 4.05991516588.\n",
      "Step: 380000. Mean Reward: 3.26313449426. Std of Reward: 2.28062070116.\n",
      "Step: 390000. Mean Reward: 2.77795823666. Std of Reward: 1.68954791744.\n",
      "Step: 400000. Mean Reward: 2.50895891257. Std of Reward: 1.30304178149.\n",
      "Saved Model\n",
      "Step: 410000. Mean Reward: 3.04558667139. Std of Reward: 1.89061541328.\n",
      "Step: 420000. Mean Reward: 3.06733096085. Std of Reward: 1.8495802142.\n",
      "Step: 430000. Mean Reward: 3.4405561993. Std of Reward: 2.68363001647.\n"
     ]
    }
   ],
   "source": [
    "tf.reset_default_graph()\n",
    "\n",
    "if curriculum_file == \"None\":\n",
    "    curriculum_file = None\n",
    "\n",
    "\n",
    "def get_progress():\n",
    "    if curriculum_file is not None:\n",
    "        if env._curriculum.measure_type == \"progress\":\n",
    "            return steps / max_steps\n",
    "        elif env._curriculum.measure_type == \"reward\":\n",
    "            return last_reward\n",
    "        else:\n",
    "            return None\n",
    "    else:\n",
    "        return None\n",
    "\n",
    "# Create the Tensorflow model graph\n",
    "ppo_model = create_agent_model(env, lr=learning_rate,\n",
    "                               h_size=hidden_units, epsilon=epsilon,\n",
    "                               beta=beta, max_step=max_steps, \n",
    "                               normalize=normalize, num_layers=num_layers)\n",
    "\n",
    "is_continuous = (env.brains[brain_name].action_space_type == \"continuous\")\n",
    "use_observations = (env.brains[brain_name].number_observations > 0)\n",
    "use_states = (env.brains[brain_name].state_space_size > 0)\n",
    "\n",
    "model_path = './models/{}'.format(run_path)\n",
    "summary_path = './summaries/{}'.format(run_path)\n",
    "\n",
    "if not os.path.exists(model_path):\n",
    "    os.makedirs(model_path)\n",
    "\n",
    "if not os.path.exists(summary_path):\n",
    "    os.makedirs(summary_path)\n",
    "\n",
    "init = tf.global_variables_initializer()\n",
    "saver = tf.train.Saver()\n",
    "\n",
    "with tf.Session() as sess:\n",
    "    # Instantiate model parameters\n",
    "    if load_model:\n",
    "        print('Loading Model...')\n",
    "        ckpt = tf.train.get_checkpoint_state(model_path)\n",
    "        saver.restore(sess, ckpt.model_checkpoint_path)\n",
    "    else:\n",
    "        sess.run(init)\n",
    "    steps, last_reward = sess.run([ppo_model.global_step, ppo_model.last_reward])    \n",
    "    summary_writer = tf.summary.FileWriter(summary_path)\n",
    "    info = env.reset(train_mode=train_model, progress=get_progress())[brain_name]\n",
    "    trainer = Trainer(ppo_model, sess, info, is_continuous, use_observations, use_states, train_model)\n",
    "    if train_model:\n",
    "        trainer.write_text(summary_writer, 'Hyperparameters', hyperparameter_dict, steps)\n",
    "    while steps <= max_steps:\n",
    "        if env.global_done:\n",
    "            info = env.reset(train_mode=train_model, progress=get_progress())[brain_name]\n",
    "        # Decide and take an action\n",
    "        new_info = trainer.take_action(info, env, brain_name, steps, normalize)\n",
    "        info = new_info\n",
    "        trainer.process_experiences(info, time_horizon, gamma, lambd)\n",
    "        if len(trainer.training_buffer['actions']) > buffer_size and train_model:\n",
    "            # Perform gradient descent with experience buffer\n",
    "            trainer.update_model(batch_size, num_epoch)\n",
    "        if steps % summary_freq == 0 and steps != 0 and train_model:\n",
    "            # Write training statistics to tensorboard.\n",
    "            trainer.write_summary(summary_writer, steps, env._curriculum.lesson_number)\n",
    "        if steps % save_freq == 0 and steps != 0 and train_model:\n",
    "            # Save Tensorflow model\n",
    "            save_model(sess, model_path=model_path, steps=steps, saver=saver)\n",
    "        steps += 1\n",
    "        sess.run(ppo_model.increment_step)\n",
    "        if len(trainer.stats['cumulative_reward']) > 0:\n",
    "            mean_reward = np.mean(trainer.stats['cumulative_reward'])\n",
    "            sess.run(ppo_model.update_reward, feed_dict={ppo_model.new_reward: mean_reward})\n",
    "            last_reward = sess.run(ppo_model.last_reward)\n",
    "    # Final save Tensorflow model\n",
    "    if steps != 0 and train_model:\n",
    "        save_model(sess, model_path=model_path, steps=steps, saver=saver)\n",
    "env.close()\n",
    "export_graph(model_path, env_name)"
   ]
  },
  {
   "cell_type": "markdown",
   "metadata": {},
   "source": [
    "### Export the trained Tensorflow graph\n",
    "Once the model has been trained and saved, we can export it as a .bytes file which Unity can embed."
   ]
  },
  {
   "cell_type": "code",
   "execution_count": null,
   "metadata": {
    "collapsed": true
   },
   "outputs": [],
   "source": [
    "export_graph(model_path, env_name)"
   ]
  }
 ],
 "metadata": {
  "anaconda-cloud": {},
  "kernelspec": {
   "display_name": "Python 2",
   "language": "python",
   "name": "python2"
  },
  "language_info": {
   "codemirror_mode": {
    "name": "ipython",
    "version": 2
   },
   "file_extension": ".py",
   "mimetype": "text/x-python",
   "name": "python",
   "nbconvert_exporter": "python",
   "pygments_lexer": "ipython2",
   "version": "2.7.10"
  }
 },
 "nbformat": 4,
 "nbformat_minor": 1
}
